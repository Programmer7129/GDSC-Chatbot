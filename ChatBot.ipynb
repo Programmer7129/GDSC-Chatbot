{
  "nbformat": 4,
  "nbformat_minor": 0,
  "metadata": {
    "colab": {
      "provenance": []
    },
    "kernelspec": {
      "name": "python3",
      "display_name": "Python 3"
    },
    "language_info": {
      "name": "python"
    }
  },
  "cells": [
    {
      "cell_type": "markdown",
      "source": [
        "#Building a ChatBot Using Python\n",
        "\n",
        "##Prerequisities\n",
        "1. Python 3\n",
        "2. NLTK library"
      ],
      "metadata": {
        "id": "SSYi_mtF6jS0"
      }
    },
    {
      "cell_type": "markdown",
      "source": [
        "##Step 1:\n",
        "###Import the necessary libraries"
      ],
      "metadata": {
        "id": "3A7jDpTS9yCy"
      }
    },
    {
      "cell_type": "markdown",
      "source": [
        "##Step 2:\n",
        "### Define the Chatbot class and its constructor. The constructor initializes the rules attribute, which is a list of tuples. Each tuple contains a regular expression pattern and a corresponding response. The constructor also loads the NLTK WordNet database, which is used to generate more comprehensive responses to user queries."
      ],
      "metadata": {
        "id": "ZjvfZGlB-RWr"
      }
    },
    {
      "cell_type": "markdown",
      "source": [
        "##Step 3:\n",
        "### Define the match_rule() method. This method takes a user input string as input and returns a response string if the user input matches any of the rules. Otherwise, the method returns the default response, which is \"I do not understand your question.\""
      ],
      "metadata": {
        "id": "0YBLoCxd-h1V"
      }
    },
    {
      "cell_type": "markdown",
      "source": [
        "##Step 4:\n",
        "### Defines the generate_response() method. This method takes a user input string as input and returns a response string. The method first tries to match the user input against the rules. If the user input does not match any rules, the method uses WordNet to generate a more comprehensive response."
      ],
      "metadata": {
        "id": "K0SoqMfj-r5t"
      }
    },
    {
      "cell_type": "markdown",
      "source": [
        "##Step 5:\n",
        "###  Defines the start() method. This method starts the chatbot by listening for user input and generating responses. The method continues to run until the user presses Ctrl+C."
      ],
      "metadata": {
        "id": "FpwXJ5PN-zxA"
      }
    },
    {
      "cell_type": "markdown",
      "source": [
        "##Step 6:\n",
        "###Create a chatbot object and start the program"
      ],
      "metadata": {
        "id": "Brly-DLV_A-k"
      }
    },
    {
      "cell_type": "code",
      "source": [
        "import nltk\n",
        "import random\n",
        "import re\n",
        "\n",
        "class Chatbot:\n",
        "    def __init__(self):\n",
        "        self.rules = [\n",
        "            (r'hello', 'Hello! How can I help you today?'),\n",
        "            (r'how are you', 'I am doing well, thank you for asking!'),\n",
        "            (r'what is your name', 'My name is Bard. I am a large language model from Google AI.'),\n",
        "            (r'goodbye', 'Goodbye! Have a nice day!')\n",
        "        ]\n",
        "\n",
        "        # Load the NLTK WordNet database.\n",
        "        self.wordnet = nltk.corpus.wordnet\n",
        "\n",
        "    def match_rule(self, user_input):\n",
        "        for pattern, response in self.rules:\n",
        "            if re.match(pattern, user_input):\n",
        "                return response\n",
        "        return 'I do not understand your question.'\n",
        "\n",
        "    def generate_response(self, user_input):\n",
        "        # Match the user input against the rules.\n",
        "        response = self.match_rule(user_input)\n",
        "\n",
        "        # If the user input does not match any rules, try to generate a more comprehensive response using WordNet.\n",
        "        if response == 'I do not understand your question.':\n",
        "            # Split the user input into words.\n",
        "            words = user_input.split()\n",
        "\n",
        "            # Look up the synsets for each word.\n",
        "            synsets = []\n",
        "            for word in words:\n",
        "                synsets.append(self.wordnet.synsets(word))\n",
        "\n",
        "            # Find the most common synset for all of the words in the user input.\n",
        "            common_synset = None\n",
        "            for synset in synsets:\n",
        "                if common_synset is None or len(synset) > len(common_synset):\n",
        "                    common_synset = synset\n",
        "\n",
        "            # If there is a common synset, generate a response based on the definition of the synset.\n",
        "            if common_synset is not None:\n",
        "                definition = common_synset[0].definition()\n",
        "                response = 'I am not sure what you mean by \"{}\". Here is a definition: {}'.format(user_input, definition)\n",
        "\n",
        "        return response\n",
        "\n",
        "    def start(self):\n",
        "        while True:\n",
        "            user_input = input('What can I do for you today? ')\n",
        "            response = self.generate_response(user_input)\n",
        "            print(response)\n",
        "\n",
        "if __name__ == '__main__':\n",
        "    chatbot = Chatbot()\n",
        "    chatbot.start()\n",
        "\n",
        "\n",
        "chatbot = Chatbot()\n",
        "\n",
        "chatbot.start()\n"
      ],
      "metadata": {
        "id": "tOTVeTL6f_-t"
      },
      "execution_count": null,
      "outputs": []
    },
    {
      "cell_type": "code",
      "source": [],
      "metadata": {
        "id": "-OK0swbCjtUd"
      },
      "execution_count": null,
      "outputs": []
    }
  ]
}